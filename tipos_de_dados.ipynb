{
  "nbformat": 4,
  "nbformat_minor": 0,
  "metadata": {
    "colab": {
      "provenance": [],
      "authorship_tag": "ABX9TyPv1dplL7VK3uZKwdZAVbIu",
      "include_colab_link": true
    },
    "kernelspec": {
      "name": "python3",
      "display_name": "Python 3"
    },
    "language_info": {
      "name": "python"
    }
  },
  "cells": [
    {
      "cell_type": "markdown",
      "metadata": {
        "id": "view-in-github",
        "colab_type": "text"
      },
      "source": [
        "<a href=\"https://colab.research.google.com/github/diogosouzaesilva/python_deepdive/blob/main/tipos_de_dados.ipynb\" target=\"_parent\"><img src=\"https://colab.research.google.com/assets/colab-badge.svg\" alt=\"Open In Colab\"/></a>"
      ]
    },
    {
      "cell_type": "code",
      "execution_count": 1,
      "metadata": {
        "id": "N76li8Z6L-Kc"
      },
      "outputs": [],
      "source": [
        "#Listas\n",
        "lista_exemplo_01 = [1,2,3,4,5,6,7,8]"
      ]
    },
    {
      "cell_type": "code",
      "source": [
        "lista_exemplo_01"
      ],
      "metadata": {
        "colab": {
          "base_uri": "https://localhost:8080/"
        },
        "id": "A1Aa3uFqMSVo",
        "outputId": "a4304049-d4d1-4029-fdf6-5fa90c21826b"
      },
      "execution_count": 2,
      "outputs": [
        {
          "output_type": "execute_result",
          "data": {
            "text/plain": [
              "[1, 2, 3, 4, 5, 6, 7, 8]"
            ]
          },
          "metadata": {},
          "execution_count": 2
        }
      ]
    },
    {
      "cell_type": "code",
      "source": [
        "lista_exemplo_02 = ['Nome', 'Idade', 'Altura']"
      ],
      "metadata": {
        "id": "UsesWqF_MV7V"
      },
      "execution_count": 3,
      "outputs": []
    },
    {
      "cell_type": "code",
      "source": [
        "lista_exemplo_02"
      ],
      "metadata": {
        "colab": {
          "base_uri": "https://localhost:8080/"
        },
        "id": "AyzVuIHiMiqN",
        "outputId": "e46595f6-ae95-4361-fc7b-6a9e20530779"
      },
      "execution_count": 4,
      "outputs": [
        {
          "output_type": "execute_result",
          "data": {
            "text/plain": [
              "['Nome', 'Idade', 'Altura']"
            ]
          },
          "metadata": {},
          "execution_count": 4
        }
      ]
    },
    {
      "cell_type": "code",
      "source": [
        "lista_exemplo_03 = ['Nome', 'Idade', 'Signo', 7, 7, 7, False, [7,7,7]]"
      ],
      "metadata": {
        "id": "Wv2BMax6MlCq"
      },
      "execution_count": 5,
      "outputs": []
    },
    {
      "cell_type": "code",
      "source": [
        "lista_exemplo_03"
      ],
      "metadata": {
        "colab": {
          "base_uri": "https://localhost:8080/"
        },
        "id": "XlAvKbXdM5KS",
        "outputId": "2f8afcad-5572-4f84-c77e-e05ae945c647"
      },
      "execution_count": 6,
      "outputs": [
        {
          "output_type": "execute_result",
          "data": {
            "text/plain": [
              "['Nome', 'Idade', 'Signo', 7, 7, 7, False, [7, 7, 7]]"
            ]
          },
          "metadata": {},
          "execution_count": 6
        }
      ]
    },
    {
      "cell_type": "code",
      "source": [
        "#Tuplas\n"
      ],
      "metadata": {
        "id": "_e9l6LeyM68d"
      },
      "execution_count": 7,
      "outputs": []
    },
    {
      "cell_type": "code",
      "source": [
        "tupla_exemplo_01 = ('Corinthians', True, 1910, ['Gaviões'])"
      ],
      "metadata": {
        "id": "K6Fr8D8ONCiG"
      },
      "execution_count": 8,
      "outputs": []
    },
    {
      "cell_type": "code",
      "source": [
        "tupla_exemplo_01\n"
      ],
      "metadata": {
        "colab": {
          "base_uri": "https://localhost:8080/"
        },
        "id": "AhA6nkm9Nj8r",
        "outputId": "643d9eee-5718-4062-a629-1db536fc4e90"
      },
      "execution_count": 9,
      "outputs": [
        {
          "output_type": "execute_result",
          "data": {
            "text/plain": [
              "('Corinthians', True, 1910, ['Gaviões'])"
            ]
          },
          "metadata": {},
          "execution_count": 9
        }
      ]
    },
    {
      "cell_type": "code",
      "source": [
        "# Dicionários"
      ],
      "metadata": {
        "id": "r-gD8EuzNl4O"
      },
      "execution_count": 10,
      "outputs": []
    },
    {
      "cell_type": "code",
      "source": [
        "dicionario = {\n",
        "    'Index': 'Valor',\n",
        "    'Id' : 1,\n",
        "    'Nome': 'Diogo',\n",
        "    'Lista' : lista_exemplo_01,\n",
        "    'Tupla' : tupla_exemplo_01\n",
        "}"
      ],
      "metadata": {
        "id": "02y01XaxNuYb"
      },
      "execution_count": 13,
      "outputs": []
    },
    {
      "cell_type": "code",
      "source": [
        "dicionario"
      ],
      "metadata": {
        "colab": {
          "base_uri": "https://localhost:8080/"
        },
        "id": "1Ur-iCIgOCrg",
        "outputId": "c8c95ed0-ea08-4724-86b3-b7a24b92519a"
      },
      "execution_count": 14,
      "outputs": [
        {
          "output_type": "execute_result",
          "data": {
            "text/plain": [
              "{'Index': 'Valor',\n",
              " 'Id': 1,\n",
              " 'Nome': 'Diogo',\n",
              " 'Lista': [1, 2, 3, 4, 5, 6, 7, 8],\n",
              " 'Tupla': ('Corinthians', True, 1910, ['Gaviões'])}"
            ]
          },
          "metadata": {},
          "execution_count": 14
        }
      ]
    },
    {
      "cell_type": "code",
      "source": [],
      "metadata": {
        "id": "cMT21-gVOb8f"
      },
      "execution_count": null,
      "outputs": []
    }
  ]
}