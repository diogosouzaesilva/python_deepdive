{
  "nbformat": 4,
  "nbformat_minor": 0,
  "metadata": {
    "colab": {
      "provenance": [],
      "authorship_tag": "ABX9TyPxfPVBKFTmyseQ0s8H6TNJ",
      "include_colab_link": true
    },
    "kernelspec": {
      "name": "python3",
      "display_name": "Python 3"
    },
    "language_info": {
      "name": "python"
    }
  },
  "cells": [
    {
      "cell_type": "markdown",
      "metadata": {
        "id": "view-in-github",
        "colab_type": "text"
      },
      "source": [
        "<a href=\"https://colab.research.google.com/github/diogosouzaesilva/python_deepdive/blob/main/variaveis.ipynb\" target=\"_parent\"><img src=\"https://colab.research.google.com/assets/colab-badge.svg\" alt=\"Open In Colab\"/></a>"
      ]
    },
    {
      "cell_type": "code",
      "execution_count": 1,
      "metadata": {
        "id": "k1GUSHNdIyEZ"
      },
      "outputs": [],
      "source": [
        "Nome = 'Diogo Souza'"
      ]
    },
    {
      "cell_type": "code",
      "source": [
        "Nome"
      ],
      "metadata": {
        "colab": {
          "base_uri": "https://localhost:8080/",
          "height": 35
        },
        "id": "uhyGY_iVI5Bk",
        "outputId": "721f4e71-c691-4921-cd02-35f568115d3f"
      },
      "execution_count": 2,
      "outputs": [
        {
          "output_type": "execute_result",
          "data": {
            "text/plain": [
              "'Diogo Souza'"
            ],
            "application/vnd.google.colaboratory.intrinsic+json": {
              "type": "string"
            }
          },
          "metadata": {},
          "execution_count": 2
        }
      ]
    },
    {
      "cell_type": "code",
      "source": [
        "# Variáveis de texto\n",
        "var_texto_01 = 'Qualquer coisa - Teste'\n",
        "var_texto_02 = str('Qualquer coisa - Execução')\n",
        "print(var_texto_01, var_texto_02)"
      ],
      "metadata": {
        "colab": {
          "base_uri": "https://localhost:8080/"
        },
        "id": "e3anqC0eI5_d",
        "outputId": "2224ae17-8e3f-4fc6-c04a-89e067b80e51"
      },
      "execution_count": 5,
      "outputs": [
        {
          "output_type": "stream",
          "name": "stdout",
          "text": [
            "Qualquer coisa - Teste Qualquer coisa - Execução\n"
          ]
        }
      ]
    },
    {
      "cell_type": "code",
      "source": [
        "# Variáveis númericas\n",
        "var_inteiro_01 = 100\n",
        "var_inteiro_02 = int(200)\n",
        "print (var_inteiro_01, var_inteiro_02)"
      ],
      "metadata": {
        "colab": {
          "base_uri": "https://localhost:8080/"
        },
        "id": "1lgufr9aJjVo",
        "outputId": "79ba4373-1fe2-4983-ad85-fb81c766ff98"
      },
      "execution_count": 6,
      "outputs": [
        {
          "output_type": "stream",
          "name": "stdout",
          "text": [
            "100 200\n"
          ]
        }
      ]
    },
    {
      "cell_type": "code",
      "source": [
        "# Variáveis flutuantes\n",
        "var_flutuante_01 = 10.90\n",
        "var_flutuante_02 = float(10.50)\n",
        "print(var_flutuante_01, var_flutuante_02)"
      ],
      "metadata": {
        "colab": {
          "base_uri": "https://localhost:8080/"
        },
        "id": "RNpGcM6mKK1P",
        "outputId": "891f73ad-aa31-4fe0-b732-8080a51ec999"
      },
      "execution_count": 7,
      "outputs": [
        {
          "output_type": "stream",
          "name": "stdout",
          "text": [
            "10.9 10.5\n"
          ]
        }
      ]
    },
    {
      "cell_type": "code",
      "source": [
        "# Variáveis Booleana\n",
        "var_booleana_01 = True\n",
        "var_booleana_02 = False\n",
        "print(var_booleana_01, var_booleana_02)"
      ],
      "metadata": {
        "colab": {
          "base_uri": "https://localhost:8080/"
        },
        "id": "lcvj9uUoKn8r",
        "outputId": "0563b830-1555-4640-eeeb-3b1b1493a28c"
      },
      "execution_count": 8,
      "outputs": [
        {
          "output_type": "stream",
          "name": "stdout",
          "text": [
            "True False\n"
          ]
        }
      ]
    },
    {
      "cell_type": "code",
      "source": [],
      "metadata": {
        "id": "rdpLwcjELhtC"
      },
      "execution_count": null,
      "outputs": []
    }
  ]
}